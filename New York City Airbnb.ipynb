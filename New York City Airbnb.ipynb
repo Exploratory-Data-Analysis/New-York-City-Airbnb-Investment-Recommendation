{
 "cells": [
  {
   "cell_type": "markdown",
   "id": "ba1d8aff",
   "metadata": {},
   "source": [
    "<center><b>New York City Airbnb Open Data </b></center>"
   ]
  },
  {
   "cell_type": "markdown",
   "id": "748da22b",
   "metadata": {},
   "source": [
    "<center> <div> <img src=\"New_York_City_.png\" alt=\"New York Map\" width = \"400\"/></div> </center>"
   ]
  },
  {
   "cell_type": "markdown",
   "id": "16694864",
   "metadata": {},
   "source": [
    "## Background and Objective"
   ]
  },
  {
   "cell_type": "markdown",
   "id": "c0fb1bf8",
   "metadata": {},
   "source": [
    "According to Investopedia, Airbnb is an online marketplace that connects people who want to rent out their homes with people who are looking for accommodations in specific locales.\n",
    "\n",
    "As a person who loves to travel, Airbnb has been my go-to platform to search for lodging, vacation rentals, and tourism activities.\n",
    "Aside from it being a much cheaper alternative than hotels, the convenience Airbnb provides is excellent, thanks to their own website/mobile application.\n",
    "\n",
    "With that in mind, I want to create a **Data Visualization** on the **New York City Airbnb Dataset** to understand the following:\n",
    "- Distribution of listings — (a) location, (b) room type\n",
    "- Differences in the (a) price, (b) minimum nights, (c) number of reviews, and (d) availability per neighbourhood group and room type\n",
    "- Relationship between the dataset features\n",
    "\n",
    "**Hypothesis Testing** will also be conducted to determine whether the observations that will arise in the Exploratory Data Analysis are statistically significant\n",
    "\n",
    "Ultimately, I will try to **answer the problem statement** and give a recommendation on what type of property to invest in and where\n"
   ]
  },
  {
   "cell_type": "markdown",
   "id": "3bf449a0",
   "metadata": {},
   "source": [
    "## Problem Statement"
   ]
  },
  {
   "cell_type": "markdown",
   "id": "b880357b",
   "metadata": {},
   "source": [
    "Where is the optimal location, and what type of property should we invest in for an Airbnb business?"
   ]
  },
  {
   "cell_type": "markdown",
   "id": "77b835a9",
   "metadata": {},
   "source": [
    "## About the Dataset"
   ]
  },
  {
   "cell_type": "markdown",
   "id": "5b2033e2",
   "metadata": {
    "pycharm": {
     "name": "#%%\n"
    }
   },
   "source": [
    "- **Dataset**: Airbnb listings and metrics in NYC, NY, USA (2019)\n",
    "- **Context**: This data file includes all needed information to find out more about hosts, geographical availability, necessary metrics to make predictions and draw conclusions.\n",
    "- **Source**: https://www.kaggle.com/datasets/dgomonov/new-york-city-airbnb-open-data"
   ]
  },
  {
   "cell_type": "markdown",
   "id": "1e601933",
   "metadata": {},
   "source": [
    "## Data Wrangling"
   ]
  },
  {
   "cell_type": "markdown",
   "id": "ae8225bc",
   "metadata": {},
   "source": [
    "#### IMPORT LIBRARIES, DEFINE FUNCTIONS, AND READ DATASET"
   ]
  },
  {
   "cell_type": "code",
   "execution_count": null,
   "id": "87bb2e0b",
   "metadata": {
    "pycharm": {
     "name": "#%%\n"
    }
   },
   "outputs": [],
   "source": [
    "# import libraries\n",
    "\n",
    "import pandas as pd\n",
    "import numpy as np\n",
    "import matplotlib.pyplot as plt\n",
    "import seaborn as sns\n",
    "import scipy.stats\n",
    "import folium\n",
    "from folium import plugins\n",
    "import missingno as msno"
   ]
  },
  {
   "cell_type": "code",
   "execution_count": null,
   "id": "c4018da3",
   "metadata": {
    "code_folding": [],
    "pycharm": {
     "name": "#%%\n"
    }
   },
   "outputs": [],
   "source": [
    "# define functions\n",
    "\n",
    "def showoutliers(df, column_name = \"\"):\n",
    "        iqr = df[column_name].quantile(.75) - df[column_name].quantile(.25)\n",
    "        lowerbound = (df[column_name].quantile(.25)) - iqr * 1.5\n",
    "        upperbound = (df[column_name].quantile(.75)) + iqr * 1.5\n",
    "        lowerbound_outliers = df[df[column_name] < lowerbound]\n",
    "        higherbound_outliers = df[df[column_name] > upperbound]\n",
    "        outliers = pd.concat([lowerbound_outliers,higherbound_outliers])\n",
    "        return outliers\n",
    "\n",
    "def countoutliers(df, column_name = \"\"):\n",
    "        iqr = df[column_name].quantile(.75) - df[column_name].quantile(.25)\n",
    "        lowerbound = (df[column_name].quantile(.25)) - iqr * 1.5\n",
    "        upperbound = (df[column_name].quantile(.75)) + iqr * 1.5\n",
    "        lowerbound_outliers = df[df[column_name] < lowerbound]\n",
    "        higherbound_outliers = df[df[column_name] > upperbound]\n",
    "        outliers = pd.concat([lowerbound_outliers,higherbound_outliers])\n",
    "        return len(outliers)"
   ]
  },
  {
   "cell_type": "code",
   "execution_count": null,
   "id": "aef105a5",
   "metadata": {
    "pycharm": {
     "name": "#%%\n"
    }
   },
   "outputs": [],
   "source": [
    "# load the dataset\n",
    "\n",
    "data = pd.read_csv('AB_NYC_2019.csv')\n",
    "data.head()"
   ]
  },
  {
   "cell_type": "markdown",
   "id": "21c6cfb1",
   "metadata": {},
   "source": [
    "#### DATA TYPES"
   ]
  },
  {
   "cell_type": "code",
   "execution_count": null,
   "id": "3d971815",
   "metadata": {
    "pycharm": {
     "name": "#%%\n"
    }
   },
   "outputs": [],
   "source": [
    "# inspect datatypes\n",
    "display(data.info())"
   ]
  },
  {
   "cell_type": "code",
   "execution_count": null,
   "id": "9afe3d2c",
   "metadata": {
    "pycharm": {
     "name": "#%%\n"
    }
   },
   "outputs": [],
   "source": [
    "# change data types\n",
    "\n",
    "data.last_review = pd.to_datetime(data.last_review)\n",
    "print(data.last_review.dtype)"
   ]
  },
  {
   "cell_type": "markdown",
   "id": "137de57f",
   "metadata": {},
   "source": [
    "#### MISSING VALUES"
   ]
  },
  {
   "cell_type": "code",
   "execution_count": null,
   "id": "de1de1e1",
   "metadata": {
    "pycharm": {
     "name": "#%%\n"
    }
   },
   "outputs": [],
   "source": [
    "# check count of missing values\n",
    "data.isnull().sum().sort_values(ascending = False).apply(lambda x: x if x > 0 else None).dropna()"
   ]
  },
  {
   "cell_type": "code",
   "execution_count": null,
   "id": "6dbbd440",
   "metadata": {
    "pycharm": {
     "name": "#%%\n"
    }
   },
   "outputs": [],
   "source": [
    "# check ratio of missing values\n",
    "data.isnull().mean().sort_values(ascending = False).apply(lambda x: x if x > 0 else None).dropna()"
   ]
  },
  {
   "cell_type": "code",
   "execution_count": null,
   "id": "05924036",
   "metadata": {
    "pycharm": {
     "name": "#%%\n"
    }
   },
   "outputs": [],
   "source": [
    "#visualize missing values\n",
    "\n",
    "msno.bar(data)\n",
    "\n",
    "plt.show()"
   ]
  },
  {
   "cell_type": "markdown",
   "id": "e143c6df",
   "metadata": {},
   "source": [
    "I decided to drop the rows with missing values in columns ``name`` and `host_name` as these missing values are immaterial"
   ]
  },
  {
   "cell_type": "code",
   "execution_count": null,
   "id": "757082ba",
   "metadata": {
    "pycharm": {
     "name": "#%%\n"
    }
   },
   "outputs": [],
   "source": [
    "# drop missing values\n",
    "data = data.dropna(subset = ['name', 'host_name'])"
   ]
  },
  {
   "cell_type": "markdown",
   "id": "eac1329c",
   "metadata": {},
   "source": [
    "The missing values for ``reviews_per_month`` and `last_review` have the same count hence we can presume that these missing values are related to listing that received no reviews.\n",
    "\n",
    "With that, I will replace `NaN` values with `0` on the `reviews_per_month` column and leave the `last_review` as is."
   ]
  },
  {
   "cell_type": "code",
   "execution_count": null,
   "id": "e2d4f8eb",
   "metadata": {
    "pycharm": {
     "name": "#%%\n"
    }
   },
   "outputs": [],
   "source": [
    "# fill missing values\n",
    "data = data.fillna({'reviews_per_month':0})"
   ]
  },
  {
   "cell_type": "markdown",
   "id": "47110d4f",
   "metadata": {},
   "source": [
    "Since there is a ``number_of_reviews`` column, we can validate the accuracy of our `reviews_per_month` column by comparing the count of `0` reviews"
   ]
  },
  {
   "cell_type": "code",
   "execution_count": null,
   "id": "cedeada1",
   "metadata": {
    "pycharm": {
     "name": "#%%\n"
    }
   },
   "outputs": [],
   "source": [
    "# validate\n",
    "len(data['number_of_reviews'] == 0) == len(data['reviews_per_month'] == 0)"
   ]
  },
  {
   "cell_type": "markdown",
   "id": "00ceb3b6",
   "metadata": {},
   "source": [
    "I will also create a new column named ``with review`` to indicate which observations are previously reviewed by the guest"
   ]
  },
  {
   "cell_type": "code",
   "execution_count": null,
   "id": "adddf663",
   "metadata": {
    "pycharm": {
     "name": "#%%\n"
    }
   },
   "outputs": [],
   "source": [
    "# create a list with the corresponding values\n",
    "with_review = [1 if i > 0 else 0 for i in data.reviews_per_month ]\n",
    "\n",
    "# get the index location of the column - useful for inserting a column in a df\n",
    "loc = data.columns.get_loc('number_of_reviews')\n",
    "\n",
    "# insert with_review column\n",
    "data.insert(loc, 'with_review', with_review)\n",
    "data.head()"
   ]
  },
  {
   "cell_type": "markdown",
   "id": "f924268e",
   "metadata": {},
   "source": [
    "#### ADDITIONAL VALIDATION"
   ]
  },
  {
   "cell_type": "code",
   "execution_count": null,
   "id": "9ff8b533",
   "metadata": {},
   "outputs": [],
   "source": [
    "#validate numerical columns\n",
    "data.describe(exclude = object, datetime_is_numeric=True)"
   ]
  },
  {
   "cell_type": "markdown",
   "id": "e325c03d",
   "metadata": {},
   "source": [
    "Based on the result, there are listings with zero prices. That doesn't seem right."
   ]
  },
  {
   "cell_type": "code",
   "execution_count": null,
   "id": "313f6648",
   "metadata": {},
   "outputs": [],
   "source": [
    "#filter zero price listings\n",
    "zero_price = data['price'] == 0\n",
    "\n",
    "print(f\"No. of listing with no price: {data[zero_price].shape[0]}\")\n",
    "display(data[zero_price].head())"
   ]
  },
  {
   "cell_type": "markdown",
   "id": "378e9986",
   "metadata": {},
   "source": [
    "Since there are only 11 observations with no price, i'll just drop it since it doesn't seem reasonable to have free listings"
   ]
  },
  {
   "cell_type": "code",
   "execution_count": null,
   "id": "fd63ae3e",
   "metadata": {},
   "outputs": [],
   "source": [
    "#drop observations with 0 price\n",
    "\n",
    "data = data.query(\"price > 0\")"
   ]
  },
  {
   "cell_type": "markdown",
   "id": "463d7c0c",
   "metadata": {},
   "source": [
    "## Exploratory Data Analysis"
   ]
  },
  {
   "cell_type": "markdown",
   "id": "d92c4d9f",
   "metadata": {},
   "source": [
    "After cleaning the dataset, the next step is to perform Exploratory Data Analysis to answer the questions defined in the objective."
   ]
  },
  {
   "cell_type": "markdown",
   "id": "a163866a",
   "metadata": {},
   "source": [
    "#### STATISTICS OF THE DATA"
   ]
  },
  {
   "cell_type": "markdown",
   "id": "659917b1",
   "metadata": {},
   "source": [
    "Create another dataframe to remove non-relevant variables for our statistical computation"
   ]
  },
  {
   "cell_type": "code",
   "execution_count": null,
   "id": "43389c95",
   "metadata": {
    "code_folding": []
   },
   "outputs": [],
   "source": [
    "#remove non-relevant variable for statistical computation\n",
    "data_stat = data.drop(['id', 'host_id', 'latitude', 'longitude', 'with_review'], axis = 1)\n",
    "\n",
    "\n",
    "#separate relevant numeric columns\n",
    "numeric = ['price', 'minimum_nights', 'number_of_reviews', 'calculated_host_listings_count', 'reviews_per_month', 'availability_365']"
   ]
  },
  {
   "cell_type": "markdown",
   "id": "4b7385d2",
   "metadata": {},
   "source": [
    "Compute summary statistics for numerical variables"
   ]
  },
  {
   "cell_type": "code",
   "execution_count": null,
   "id": "ccecef7e",
   "metadata": {
    "code_folding": []
   },
   "outputs": [],
   "source": [
    "#Numerical Statistics\n",
    "\n",
    "#melt the dataframe\n",
    "data_melt = pd.melt(data, id_vars= 'id', value_vars = numeric)\n",
    "\n",
    "#compute statistics on the melted dataframe\n",
    "data_group = data_melt.groupby('variable').agg({'value':['min', 'max', 'mean' , 'median', 'std']})\\\n",
    "            .sort_values(('value', 'mean'), ascending = False)\n",
    "#display\n",
    "data_group"
   ]
  },
  {
   "cell_type": "markdown",
   "id": "462bb5b8",
   "metadata": {},
   "source": [
    "The price for each observation has a wide range.\n",
    "Also, it seems like there are properties that is occupied continuously througout the year."
   ]
  },
  {
   "cell_type": "code",
   "execution_count": null,
   "id": "852873a3",
   "metadata": {
    "code_folding": []
   },
   "outputs": [],
   "source": [
    "#Categorical Statistics\n",
    "\n",
    "data_stat.describe(include = object)"
   ]
  },
  {
   "cell_type": "markdown",
   "id": "e256dbd7",
   "metadata": {},
   "source": [
    "Based on the desriptive statistics, the following can be noted:\n",
    "\n",
    "- Out of the 48,847 listings, there are only 11,448 hosts which means that the `listing-to-host ratio is approximately 4:1`.\n",
    "- There are only 3 room types and the most common is the `Entire Home/Apartment`.<br>\n",
    "- There are `18 units in Hillside Hotel` that are being listed in AirBnb. <br>\n",
    "- `21,642 or 44%` of the AirBnb listings in New York `are located in Manhattan`. <br>"
   ]
  },
  {
   "cell_type": "markdown",
   "id": "51691bae",
   "metadata": {},
   "source": [
    "#### DISTRIBUTION OF PRICE, MINIMUM NIGHTS, NUMBER OF REVIEWS, LISTING COUNT, AND AVAILABILITY"
   ]
  },
  {
   "cell_type": "code",
   "execution_count": null,
   "id": "c4460e18",
   "metadata": {
    "code_folding": [],
    "pycharm": {
     "name": "#%%\n"
    },
    "scrolled": false
   },
   "outputs": [],
   "source": [
    "#Histogram of Numerical Columns\n",
    "\n",
    "# check distribution\n",
    "\n",
    "data[numeric].hist(figsize = (18,7), layout = (2,3), grid = False, bins = 20)\n",
    "\n",
    "plt.title('Distribution of Numerical Variables')\n",
    "plt.tight_layout()\n",
    "plt.show()"
   ]
  },
  {
   "cell_type": "markdown",
   "id": "a9cb86ba",
   "metadata": {},
   "source": [
    "The histograms above shows that there are a lot of outliers in the dataset which makes it harder for us to see the actual data distribution.\n",
    "To resolve this, let's create two separate plots, one for outliers and one for normal, using the `countoutliers()` and `showoutliers()` function I defined earlier"
   ]
  },
  {
   "cell_type": "code",
   "execution_count": null,
   "id": "124e6b5d",
   "metadata": {
    "code_folding": [],
    "pycharm": {
     "name": "#%%\n"
    }
   },
   "outputs": [],
   "source": [
    "# Distribution of Outliers\n",
    "fig, axes = plt.subplots(2,3, figsize = (18,7))\n",
    "plt.suptitle('Distribution of Outlier Observations', fontsize = 15, y = 1)\n",
    "\n",
    "for col, ax in zip(data[numeric], axes.flat):\n",
    "        outliers = showoutliers(data, col)\n",
    "\n",
    "        #plot the histogram in the specified axes\n",
    "        outliers[col].hist(bins = 20, grid = False, ax = ax)\n",
    "\n",
    "        #chart formatting\n",
    "        ax.set_title(f\"{col.replace('_', ' ').title()}\\nOutlier count: {countoutliers(data, col)}\")\n",
    "\n",
    "plt.tight_layout()\n",
    "plt.show()"
   ]
  },
  {
   "cell_type": "code",
   "execution_count": null,
   "id": "8e67a2d7",
   "metadata": {
    "code_folding": [],
    "pycharm": {
     "name": "#%%\n"
    }
   },
   "outputs": [],
   "source": [
    "# Distribution of Observations Excluding Outliers\n",
    "\n",
    "fig, axes = plt.subplots(2,3, figsize = (18,7))\n",
    "plt.suptitle('Distribution of Observations Excluding Outliers', fontsize = 15, y = 1)\n",
    "\n",
    "for col, ax in zip(data[numeric], axes.flat):\n",
    "        outliers = showoutliers(data, col)\n",
    "        normal = data[~ data.index.isin(outliers.index)]\n",
    "\n",
    "        #plot the histogram in the specified axes\n",
    "        normal[col].hist(bins = 20, grid = False, ax = ax)\n",
    "\n",
    "        #chart formatting\n",
    "        ax.axvline(x = normal[col].mean(), color = 'red', label = 'Mean', linestyle = '--')\n",
    "        ax.axvline(x = normal[col].median(), color = 'green', label = 'Median', linewidth = 2)\n",
    "        ax.legend()\n",
    "        ax.set_title(f\"{col.replace('_', ' ').title()}\\nNormal count: {len(data) - countoutliers(data, col)}\")\n",
    "\n",
    "plt.tight_layout(h_pad=3)\n",
    "plt.show()"
   ]
  },
  {
   "cell_type": "markdown",
   "id": "f2529cf9",
   "metadata": {},
   "source": [
    "After excluding the outliers, we can now clearly see the distribution of our dataset. I also plotted the mean to add more information.\n",
    "From this plot, we can presume that our numeric columns are mostly skewed to the right, in other words, there are a lot of small value observations. The following are also noted:\n",
    "\n",
    "- Price ranges from around 20 to 350 USD per night with a mean of approximately 120USD.\n",
    "- There are a few listings that requires a minimum stay of > 5 nights.\n",
    "- A property listing receives only 10 reviews in average, although there are a few that received more than 20 reviews.\n",
    "- Majority of the hosts in NYC only has one property listing.\n",
    "- More than 20,000 properties are occupied almost all throughout the year, however there are also properties with almost no bookings."
   ]
  },
  {
   "cell_type": "markdown",
   "id": "cf9c0068",
   "metadata": {},
   "source": [
    "#### DISTRIBUTION OF LISTINGS"
   ]
  },
  {
   "cell_type": "code",
   "execution_count": null,
   "id": "de4a694e",
   "metadata": {
    "code_folding": [
     26
    ],
    "scrolled": false
   },
   "outputs": [],
   "source": [
    "#Geospatial Distribution Plot\n",
    "\n",
    "#define variables\n",
    "latitude = 40.7128\n",
    "longitude = -74.0060\n",
    "ny_geo = \"Borough Boundaries.geojson\"\n",
    "group = data.groupby('neighbourhood_group', as_index = False)['price'].mean()\n",
    "\n",
    "#create map instance\n",
    "ny_map = folium.Map(location = [latitude, longitude], zoom_start=10, tiles = 'Stamen Toner')\n",
    "\n",
    "#add choropleth\n",
    "choropleth = folium.Choropleth(geo_data=ny_geo,\n",
    "                               data=group,\n",
    "                               columns=['neighbourhood_group', 'price'],\n",
    "                               key_on='feature.properties.boro_name',\n",
    "                               fill_color='YlOrRd', \n",
    "                               fill_opacity=0.7, \n",
    "                               line_opacity=1,\n",
    "                               legend_name='AirBnb Price',\n",
    "                               highlight = True,\n",
    "                               smooth_factor = 0).add_to(ny_map)\n",
    "\n",
    "\n",
    "#add markers indiccating the number of listings in the area\n",
    "listings = plugins.MarkerCluster().add_to(ny_map)\n",
    "for lat, lng, label in zip(data['latitude'], data['longitude'], data['room_type']):\n",
    "        folium.Marker(location=[lat, lng],\n",
    "                      icon=None,\n",
    "                      popup=label).add_to(listings)\n",
    "    \n",
    "\n",
    "#add labels indicating the name of the community\n",
    "style_function = \"font-size: 15px; font-weight: bold\"\n",
    "choropleth.geojson.add_child(folium.features.GeoJsonTooltip(['boro_name'], style=style_function, labels=False))\n",
    "\n",
    "#display map\n",
    "ny_map\n"
   ]
  },
  {
   "cell_type": "markdown",
   "id": "fbfbc344",
   "metadata": {},
   "source": [
    "The markers in the geospatial map confirms the previous observation that approximately half of the AirBnb listings in New York are in Manhattan. <br>\n",
    "\n",
    "In addition, I added a choropleth to visualize the average prices across different neighborhood groups. <br>\n",
    "The closer the color is to dark red, the higher the average price is in that location. <br>\n",
    "\n",
    "We can observe that aside from having the most number of AirBnb listings, Manhattan also has the highest average price. <br>\n",
    "Meanwhile, Bronx and Queens has the lowest average price. "
   ]
  },
  {
   "cell_type": "code",
   "execution_count": null,
   "id": "d0e4a0f8",
   "metadata": {
    "code_folding": [],
    "pycharm": {
     "name": "#%%\n"
    }
   },
   "outputs": [],
   "source": [
    "# Property Listings per Neighbourhood and Room Type\n",
    "\n",
    "#configure parameters\n",
    "sns.set(rc = {'figure.figsize':(17,8)},\n",
    "        style = 'ticks')\n",
    "\n",
    "#specify order\n",
    "order = data['neighbourhood_group'].value_counts().sort_values().index\n",
    "\n",
    "#plot the data\n",
    "sns.countplot(x = 'neighbourhood_group', data = data, order = order, hue = 'room_type', palette = 'rocket')\n",
    "\n",
    "#display\n",
    "plt.title('Count of Listings per Neighborhood and Room Type', fontsize = 15)\n",
    "plt.show()"
   ]
  },
  {
   "cell_type": "markdown",
   "id": "bd64993d",
   "metadata": {},
   "source": [
    "The neighborhood group with the smallest number of listings in AirBnb is the Staten Island. There are two beaches in Staten Island, the South Beach, and the Midlane Beach. \n",
    "Theoretically, these types of locations should have more listings due to it being a tourist spot."
   ]
  },
  {
   "cell_type": "markdown",
   "id": "bf2d9e97",
   "metadata": {},
   "source": [
    "#### DIFFERENCES BETWEEN GROUPS"
   ]
  },
  {
   "cell_type": "code",
   "execution_count": null,
   "id": "09c1a817",
   "metadata": {
    "code_folding": [],
    "pycharm": {
     "name": "#%%\n"
    }
   },
   "outputs": [],
   "source": [
    "#create subplots\n",
    "fig, axes = plt.subplots(2, 3, figsize=(16, 8))\n",
    "\n",
    "#specify the order\n",
    "order = data['neighbourhood_group'].value_counts(ascending = True).index\n",
    "\n",
    "#plot the data\n",
    "for col, ax in zip(data[numeric], axes.flat):\n",
    "    sns.boxplot(x='neighbourhood_group',\n",
    "                y=col,\n",
    "                data=data,\n",
    "                showfliers=False,\n",
    "                ax=ax,\n",
    "                palette='Blues',\n",
    "                order=order)\n",
    "                \n",
    "    ax.set_xlabel('')\n",
    "\n",
    "#customize chart\n",
    "plt.suptitle('Differences Between Neighborhood Groups', fontsize=15, y=1)\n",
    "plt.tight_layout(h_pad=3)\n",
    "\n",
    "#display\n",
    "plt.show()"
   ]
  },
  {
   "cell_type": "markdown",
   "id": "24007dce",
   "metadata": {},
   "source": [
    "- There is a noticeable difference between the average prices and minimum nights required in Manhattan, Brooklyn, and the rest of the neigborhoods in New York.<br><br>\n",
    "\n",
    "- The number of reviews given by guests in Staten Islands are slightly higher compared to the other neighborhoods.<br><br>\n",
    "\n",
    "- Despite having higher prices, the average availability of the listings in Manhattan is approximately 50 days in a year.<br> This means that out of 365 days, 315 days have been booked for a stay, and 86% of the time the Manhattan units are occupied by guests.<br><br>\n",
    "\n",
    "- Meanwhile, listings in Staten Island are available almost 50% of the time. A seasonality analysis might be appropriate in this case. <br>Unfortunately, the data needed is not available."
   ]
  },
  {
   "cell_type": "code",
   "execution_count": null,
   "id": "58337c7c",
   "metadata": {
    "code_folding": [],
    "pycharm": {
     "name": "#%%\n"
    },
    "scrolled": false
   },
   "outputs": [],
   "source": [
    "#create subplots\n",
    "fig, axes = plt.subplots(2,3, figsize = (16,8))\n",
    "\n",
    "#define the order\n",
    "order = ['Private room', 'Shared room', 'Entire home/apt']\n",
    "\n",
    "#plot the data\n",
    "for col, ax in zip(data[numeric], axes.flat):\n",
    "        sns.boxplot(x = 'room_type', y = col, data = data, showfliers = False, ax = ax, palette = 'rocket', order = order)\n",
    "        ax.set_xlabel('')\n",
    "\n",
    "#customize chart\n",
    "plt.suptitle('Differences Between Room Types', fontsize = 15, y = 1)\n",
    "plt.tight_layout(h_pad = 3)\n",
    "\n",
    "#display\n",
    "plt.show()"
   ]
  },
  {
   "cell_type": "markdown",
   "id": "3c8b1bb3",
   "metadata": {},
   "source": [
    "- Entire Home/Apt type of Airbnb listing is the most expensive room type. It's average price is 300% higher than the Shared Room and 230% higher than the Private Room. This makes sense as Entire Home/Apt has more space and is bigger than Private Rooms and Shared Rooms <br> <br> \n",
    "- Shared room has the lowest minimum number of nights followed by Private room and Entire Home/Apt<br><br>\n",
    "\n",
    "- The three room types received almost equal number of reviews. <br><br>\n",
    "\n",
    "- Whereas for the availability, Shared Room has the highest available days, and Entire Home/Apt has the lowest"
   ]
  },
  {
   "cell_type": "code",
   "execution_count": null,
   "id": "bb5bf38d",
   "metadata": {
    "code_folding": [],
    "pycharm": {
     "name": "#%%\n"
    }
   },
   "outputs": [],
   "source": [
    "#create subplots\n",
    "fig, axes = plt.subplots(2,3, figsize = (16,8))\n",
    "\n",
    "#define the order\n",
    "order = data['neighbourhood_group'].value_counts().index\n",
    "\n",
    "#plot the data\n",
    "for col, ax in zip(data[numeric], axes.flat):\n",
    "        sns.pointplot(hue = 'room_type', y = col, data = data, x = 'neighbourhood_group', join = True, ci = 68, palette = 'rocket', order = order, ax = ax)\n",
    "        ax.set_xlabel('')\n",
    "        ax.legend(loc = 'upper right')\n",
    "\n",
    "#customize chart\n",
    "plt.suptitle('Differences Between Neighbourhood Group and Room Type', fontsize = 15, y = 1)\n",
    "plt.tight_layout(h_pad = 3)\n",
    "\n",
    "#display\n",
    "plt.show()"
   ]
  },
  {
   "cell_type": "markdown",
   "id": "799d6a7b",
   "metadata": {},
   "source": [
    "- The Entire Home/Apt listings in Manhattan has the most expensive average price, followed by Brooklyn, Staten Island, Queens, and Bronx.<br>\n",
    "Also, the large variability of prices for Entire Home/Apt is only prevalent in Staten Island and not with the other neigborhoods. <br> <br>\n",
    "\n",
    "- Average prices for Private Room and Shared Room is almost the same across Brooklyn, Queens, Bronx, and Staten Island. Manhattan, on the other hand, are priced at slightly higher rates. <br> <br>\n",
    "\n",
    "- For Private Room and Shared Room, average prices in Queens, Bronx, and Staten Island follows a certain trend, that is, Queens > Bronx > Staten Island. However, that trend is not present when it comes to Entire Home/Apt. Instead, it became Staten Island > Queens > Bronx."
   ]
  },
  {
   "cell_type": "markdown",
   "id": "784f6a99",
   "metadata": {},
   "source": [
    "#### RELATIONSHIP BETWEET NUMERICAL FEATURES"
   ]
  },
  {
   "cell_type": "code",
   "execution_count": null,
   "id": "73ccdc7a",
   "metadata": {
    "code_folding": [],
    "pycharm": {
     "name": "#%%\n"
    }
   },
   "outputs": [],
   "source": [
    "#plot scatterplots\n",
    "sns.pairplot(data[numeric], y_vars = 'price', height = 2.5)\n",
    "\n",
    "#chart labels\n",
    "plt.suptitle('Correlation Plot of Numeric Variables', y = 1.2)\n",
    "\n",
    "#display\n",
    "plt.show()"
   ]
  },
  {
   "cell_type": "markdown",
   "id": "918d2408",
   "metadata": {},
   "source": [
    "It seems like there is no linear relationship between the numerical columns."
   ]
  },
  {
   "cell_type": "code",
   "execution_count": null,
   "id": "e20d1bbe",
   "metadata": {
    "code_folding": [],
    "pycharm": {
     "name": "#%%\n"
    }
   },
   "outputs": [],
   "source": [
    "#plot correlation heatmap\n",
    "sns.heatmap(data[numeric].corr(), annot = True)\n",
    "\n",
    "#display\n",
    "plt.title('Correlation Plot', fontsize = 15)\n",
    "plt.show()"
   ]
  },
  {
   "cell_type": "markdown",
   "id": "0ec73eb3",
   "metadata": {},
   "source": [
    "The correlation coeffecients computed supports the observations based on the scatter plot that there is no linear relationship between the numerical columns."
   ]
  },
  {
   "cell_type": "markdown",
   "id": "c3f0d9fa",
   "metadata": {},
   "source": [
    "## Hypothesis Testing"
   ]
  },
  {
   "cell_type": "markdown",
   "id": "56db1abd",
   "metadata": {},
   "source": [
    "After performing Exploratory Data Analysis, the next step is to test whether our observations are statistically significant"
   ]
  },
  {
   "cell_type": "markdown",
   "id": "3ad910b5",
   "metadata": {},
   "source": [
    "### IS THERE AN ASSOCIATION BETWEEN NEIGHBORHOOD AND ROOM TYPE?"
   ]
  },
  {
   "cell_type": "code",
   "execution_count": null,
   "id": "acea0cd3",
   "metadata": {
    "code_folding": []
   },
   "outputs": [],
   "source": [
    "# Property Listings per Neighbourhood and Room Type\n",
    "\n",
    "#configure parameters\n",
    "sns.set(rc = {'figure.figsize':(17,8)},\n",
    "        style = 'ticks')\n",
    "\n",
    "#specify order\n",
    "order = data['neighbourhood_group'].value_counts().sort_values().index\n",
    "\n",
    "#plot the data\n",
    "sns.countplot(x = 'neighbourhood_group', data = data, order = order, hue = 'room_type', palette = 'rocket')\n",
    "\n",
    "#display\n",
    "plt.title('Number of Room Type per Neighborhood', fontsize = 15, y = 1.02)\n",
    "plt.show()"
   ]
  },
  {
   "cell_type": "markdown",
   "id": "693c1931",
   "metadata": {},
   "source": [
    "<div class=\"alert alert-warning\">\n",
    "<strong>Ho</strong>: There are no differences between the number of listings in atleast one of the neighborhoods in New York City. <br>\n",
    "<strong>Ha</strong>: There are is differences between the number of listings in atleast one of the neighborhoods in New York City.\n",
    "</div>"
   ]
  },
  {
   "cell_type": "code",
   "execution_count": null,
   "id": "6e236c5b",
   "metadata": {
    "code_folding": []
   },
   "outputs": [],
   "source": [
    "# Crosstab\n",
    "\n",
    "table = pd.crosstab(data['neighbourhood_group'], data['room_type'], margins = True, normalize = True)\n",
    "table"
   ]
  },
  {
   "cell_type": "code",
   "execution_count": null,
   "id": "d7941402",
   "metadata": {},
   "outputs": [],
   "source": [
    "#Chi-Square Test\n",
    "\n",
    "p_val = scipy.stats.chi2_contingency(table, correction = True)[1]\n",
    "\n",
    "print(f'P-value is: {p_val}')"
   ]
  },
  {
   "cell_type": "markdown",
   "id": "16594078",
   "metadata": {},
   "source": [
    "<div class=\"alert alert-success\">\n",
    "<strong>Conclusion:</strong> <br>Since p-value < the .05, we reject the null hypothesis and therefore conclude that there is an association between Neighborhood Group and Room Type.\n",
    "                                       </div>"
   ]
  },
  {
   "cell_type": "markdown",
   "id": "debe6541",
   "metadata": {},
   "source": [
    "### DOES THE AVERAGE PRICE DIFFER PER NEIGHBORHOOD GROUP?"
   ]
  },
  {
   "cell_type": "code",
   "execution_count": null,
   "id": "3ca5c313",
   "metadata": {
    "code_folding": []
   },
   "outputs": [],
   "source": [
    "#Box Plot\n",
    "\n",
    "#plot parameters\n",
    "fig, axes = plt.subplots(figsize = (12,6))\n",
    "\n",
    "#specify the order\n",
    "order = data['neighbourhood_group'].value_counts(ascending = True).index\n",
    "\n",
    "#plot the data\n",
    "sns.boxplot(x='neighbourhood_group',\n",
    "            y='price',\n",
    "            data=data,\n",
    "            showfliers=False,\n",
    "            palette='Blues',\n",
    "            order=order)\n",
    "                \n",
    "    \n",
    "\n",
    "#customize chart\n",
    "plt.suptitle('Average Price per Neighbourhood Group', fontsize=15, y=.98)\n",
    "plt.xlabel('')\n",
    "plt.tight_layout(h_pad=3)\n",
    "\n",
    "#display\n",
    "plt.show()"
   ]
  },
  {
   "cell_type": "markdown",
   "id": "4eb594fb",
   "metadata": {},
   "source": [
    "<div class=\"alert alert-warning\">\n",
    "\n",
    "<strong>Ho:</strong> The average prices does not differ between neighborhood groups <br>\n",
    "<strong>Ha:</strong> The average prices does not differ between neighborhood groups <br>\n",
    "<strong>α:</strong> 5%\n",
    "</div>"
   ]
  },
  {
   "cell_type": "code",
   "execution_count": null,
   "id": "9db9a854",
   "metadata": {
    "code_folding": []
   },
   "outputs": [],
   "source": [
    "#ANOVA\n",
    "\n",
    "f_statistic, p_val = scipy.stats.f_oneway(data[data['neighbourhood_group'] == 'Staten Island']['price'],\n",
    "                                           data[data['neighbourhood_group'] == 'Queens']['price'],\n",
    "                                           data[data['neighbourhood_group'] == 'Bronx']['price'],\n",
    "                                           data[data['neighbourhood_group'] == 'Brooklyn']['price'],\n",
    "                                           data[data['neighbourhood_group'] == 'Manhattan']['price'])\n",
    "\n",
    "print(f'P-value is: {p_val}')"
   ]
  },
  {
   "cell_type": "markdown",
   "id": "13427f24",
   "metadata": {},
   "source": [
    "<div class=\"alert alert-success\">\n",
    "    <strong> Conlusion: </strong> <br>\n",
    "Since the p-value is less than the alpha, we reject the null hypothesis and conclude that\n",
    "there are differences in average prices between neighborhood groups\n",
    "</div>"
   ]
  },
  {
   "cell_type": "markdown",
   "id": "1d0b32ba",
   "metadata": {},
   "source": [
    "### IS THE AVERAGE PRICE IN MANHATTAN GREATER THAN THE AVERAGE PRICE IN STATEN ISLAND, BRONX, QUEENS, AND BROOKLYN?"
   ]
  },
  {
   "cell_type": "markdown",
   "id": "ccdaf1a5",
   "metadata": {},
   "source": [
    "<div class=\"alert alert-warning\">\n",
    "\n",
    "<strong>Ho:</strong> The average price in Manhattan is <= average prices in other NY Neighborhoods <br>\n",
    "<strong>Ha:</strong> The average price in Manhattan is > average prices in other NY Neighborhoods <br>\n",
    "<strong>α:</strong> 5%\n",
    "    \n",
    "</div>"
   ]
  },
  {
   "cell_type": "code",
   "execution_count": null,
   "id": "e8df7f07",
   "metadata": {},
   "outputs": [],
   "source": [
    "#T-Test\n",
    "\n",
    "manhattan = data[data['neighbourhood_group'] == 'Manhattan']['price']\n",
    "others = data[data['neighbourhood_group'] != 'Manhattan']['price']\n",
    "\n",
    "scipy.stats.ttest_ind(manhattan, others)"
   ]
  },
  {
   "cell_type": "markdown",
   "id": "e586f64d",
   "metadata": {},
   "source": [
    "<div class=\"alert alert-success\">\n",
    "    <strong>Conlusion:</strong> <br><br>\n",
    "Since the p-value is less than the alpha, we reject the null hypothesis and conclude that the average price in Manhattan is greater than the other neighborhood groups in New York\n",
    "</div>"
   ]
  },
  {
   "cell_type": "markdown",
   "id": "9be8c607",
   "metadata": {},
   "source": [
    "### DOES THE AVERAGE AVAILABILITY DAYS DIFFER PER NEIGHBORHOOD GROUP?"
   ]
  },
  {
   "cell_type": "code",
   "execution_count": null,
   "id": "d0893d35",
   "metadata": {
    "code_folding": [
     0
    ]
   },
   "outputs": [],
   "source": [
    "#Box Plot\n",
    "\n",
    "#plot parameters\n",
    "fig, axes = plt.subplots(figsize = (12,6))\n",
    "\n",
    "#specify the order\n",
    "order = data['neighbourhood_group'].value_counts(ascending = True).index\n",
    "\n",
    "#plot the data\n",
    "sns.boxplot(x='neighbourhood_group',\n",
    "            y='availability_365',\n",
    "            data=data,\n",
    "            showfliers=False,\n",
    "            palette='Blues',\n",
    "            order=order)\n",
    "                \n",
    "    \n",
    "\n",
    "#customize chart\n",
    "plt.suptitle('Average Availability Days in a  Year per Neighbourhood Group', fontsize=15, y=.98)\n",
    "plt.xlabel('')\n",
    "plt.tight_layout(h_pad=3)\n",
    "\n",
    "#display\n",
    "plt.show()"
   ]
  },
  {
   "cell_type": "markdown",
   "id": "93b58af0",
   "metadata": {},
   "source": [
    "<div class=\"alert alert-warning\">\n",
    "\n",
    "<strong>Ho:</strong> The average price in Manhattan does not differ between neighborhood groups <br>\n",
    "<strong>Ha:</strong> The average price in Manhattan differs between neighborhood groups <br>\n",
    "<strong>α:</strong> 5%\n",
    "    \n",
    "</div>"
   ]
  },
  {
   "cell_type": "code",
   "execution_count": null,
   "id": "de7f1e33",
   "metadata": {},
   "outputs": [],
   "source": [
    "#ANOVA\n",
    "\n",
    "f_statistic, p_val = scipy.stats.f_oneway(data[data['neighbourhood_group'] == 'Staten Island']['availability_365'],\n",
    "                                           data[data['neighbourhood_group'] == 'Queens']['availability_365'],\n",
    "                                           data[data['neighbourhood_group'] == 'Bronx']['availability_365'],\n",
    "                                           data[data['neighbourhood_group'] == 'Brooklyn']['availability_365'],\n",
    "                                           data[data['neighbourhood_group'] == 'Manhattan']['availability_365'])\n",
    "\n",
    "print(f'P-value is: {p_val}')"
   ]
  },
  {
   "cell_type": "markdown",
   "id": "aed255c0",
   "metadata": {},
   "source": [
    "<div class=\"alert alert-success\">\n",
    "    <strong>Conlusion:</strong> <br><br>\n",
    "Since the p-value is less than the alpha, we reject the null hypothesis and conclude that the average availabile days per year differs per neighborhood groups\n",
    "</div>"
   ]
  },
  {
   "cell_type": "markdown",
   "id": "b9557635",
   "metadata": {},
   "source": [
    "### DOES THE AVERAGE PRICE DIFFER BY ROOM TYPE?"
   ]
  },
  {
   "cell_type": "code",
   "execution_count": null,
   "id": "35f68b6a",
   "metadata": {
    "code_folding": []
   },
   "outputs": [],
   "source": [
    "#configure parameters\n",
    "fig, axes = plt.subplots(figsize = (12,5))\n",
    "\n",
    "#define the order\n",
    "order = data.groupby('room_type')['price'].mean().index\n",
    "\n",
    "#plot the data\n",
    "sns.boxplot(y = 'room_type', x = 'price', data = data, showfliers = False, palette = 'rocket', order = order)\n",
    "\n",
    "#customize chart\n",
    "plt.suptitle('Average Price per Room Type', fontsize = 15, y = 1)\n",
    "plt.tight_layout(h_pad = 3)\n",
    "ax.set_xlabel('')\n",
    "\n",
    "#display\n",
    "plt.show()"
   ]
  },
  {
   "cell_type": "markdown",
   "id": "0f2f44bd",
   "metadata": {},
   "source": [
    "<div class=\"alert alert-warning\">\n",
    "\n",
    "<strong>Ho:</strong> The average price does not differ per room type <br>\n",
    "<strong>Ha:</strong> The average price differs per room type <br>\n",
    "<strong>α:</strong> 5%\n",
    "    \n",
    "</div>"
   ]
  },
  {
   "cell_type": "code",
   "execution_count": null,
   "id": "ce205d39",
   "metadata": {},
   "outputs": [],
   "source": [
    "#ANOVA\n",
    "\n",
    "f_statistic, p_val = scipy.stats.f_oneway(data[data['room_type'] == 'Entire home/apt']['price'],\n",
    "                                          data[data['room_type'] == 'Private room']['price'],\n",
    "                                          data[data['room_type'] == 'Shared room']['price'])\n",
    "                                          \n",
    "                                           \n",
    "print(f'P-value is: {p_val}')"
   ]
  },
  {
   "cell_type": "markdown",
   "id": "ce6ae232",
   "metadata": {},
   "source": [
    "<div class=\"alert alert-success\">\n",
    "    <strong>Conlusion:</strong> <br><br>\n",
    "Since the p-value is less than the alpha, we reject the null hypothesis and conclude that the average price differs by room type</div>"
   ]
  },
  {
   "cell_type": "markdown",
   "id": "f6510dac",
   "metadata": {},
   "source": [
    "### DOES THE AVERAGE AVAILABILITY DAYS DIFFER BY ROOM TYPE?"
   ]
  },
  {
   "cell_type": "code",
   "execution_count": null,
   "id": "937a8b90",
   "metadata": {},
   "outputs": [],
   "source": [
    "#configure parameters\n",
    "fig, axes = plt.subplots(figsize = (12,5))\n",
    "\n",
    "#define the order\n",
    "order = data.groupby('room_type')['availability_365'].mean().index\n",
    "\n",
    "#plot the data\n",
    "sns.boxplot(y = 'room_type', x = 'availability_365', data = data, showfliers = False, palette = 'rocket', order = order)\n",
    "\n",
    "#customize chart\n",
    "plt.suptitle('Average Availability per Room Type', fontsize = 15, y = 1)\n",
    "plt.tight_layout(h_pad = 3)\n",
    "ax.set_xlabel('')\n",
    "\n",
    "#display\n",
    "plt.show()"
   ]
  },
  {
   "cell_type": "markdown",
   "id": "87378aa8",
   "metadata": {},
   "source": [
    "<div class=\"alert alert-warning\">\n",
    "\n",
    "<strong>Ho:</strong> The average availability does not differ per room type <br>\n",
    "<strong>Ha:</strong> The average availability differs per room type <br>\n",
    "<strong>α:</strong> 5%\n",
    "    \n",
    "</div>"
   ]
  },
  {
   "cell_type": "code",
   "execution_count": null,
   "id": "1da3f311",
   "metadata": {},
   "outputs": [],
   "source": [
    "#ANOVA\n",
    "\n",
    "f_statistic, p_val = scipy.stats.f_oneway(data[data['room_type'] == 'Entire home/apt']['availability_365'],\n",
    "                                          data[data['room_type'] == 'Private room']['availability_365'],\n",
    "                                          data[data['room_type'] == 'Shared room']['availability_365'])\n",
    "                                          \n",
    "                                           \n",
    "print(f'P-value is: {p_val}')"
   ]
  },
  {
   "cell_type": "markdown",
   "id": "902193f4",
   "metadata": {},
   "source": [
    "<div class=\"alert alert-success\">\n",
    "    <strong>Conlusion:</strong> <br><br>\n",
    "Since the p-value is less than the alpha, we reject the null hypothesis and conclude that the average availability differs by room type</div>"
   ]
  },
  {
   "cell_type": "markdown",
   "id": "8e6bc5c5",
   "metadata": {},
   "source": [
    "The results of the hypothesis testing shows that the observations based on the Exploratory Data Analysis are statistically significant."
   ]
  },
  {
   "cell_type": "markdown",
   "id": "923707a4",
   "metadata": {},
   "source": [
    "## Answer the problem statement"
   ]
  },
  {
   "cell_type": "markdown",
   "id": "5e528ee2",
   "metadata": {},
   "source": [
    "After having exploring the dataset and testing the significance of the observations, we can now answer the question,<br> **\"What type of property should we invest in and where\"**"
   ]
  },
  {
   "cell_type": "markdown",
   "id": "acf7b4cf",
   "metadata": {},
   "source": [
    "To answer this, first I need to create a column named `income` that contains the yearly income of an Airbnb unit derived from the `price` column multiplied by `365 - availability_365`."
   ]
  },
  {
   "cell_type": "code",
   "execution_count": null,
   "id": "abafe909",
   "metadata": {},
   "outputs": [],
   "source": [
    "#create income column\n",
    "data['income'] = (365 - data['availability_365']) * data['price']\n",
    "\n",
    "display(data.groupby('neighbourhood_group')['income'].mean().sort_values().reset_index())\n",
    "display(data.groupby('room_type')['income'].mean().sort_values().reset_index())"
   ]
  },
  {
   "cell_type": "code",
   "execution_count": null,
   "id": "edc3d937",
   "metadata": {
    "code_folding": []
   },
   "outputs": [],
   "source": [
    "#visualize income\n",
    "\n",
    "#configure parameters\n",
    "fig = plt.figure(figsize = (16,6))\n",
    "ax0 = fig.add_subplot(1,2,1)\n",
    "ax1 = fig.add_subplot(1,2,2)\n",
    "\n",
    "\n",
    "\n",
    "#neighbourhood group\n",
    "order = data.groupby('neighbourhood_group')['income'].mean().index\n",
    "sns.boxplot(x = 'neighbourhood_group', y = 'income', data = data, showfliers = False, palette = 'Blues', order = order, ax = ax0)\n",
    "\n",
    "\n",
    "#room type\n",
    "sns.boxplot(x = 'room_type', y = 'income', data = data, showfliers = False, palette = 'rocket', ax = ax1)\n",
    "\n",
    "\n",
    "#customize chart\n",
    "plt.suptitle('Average Income per Neighborhood and Room Type', fontsize = 15, y = 1)\n",
    "plt.tight_layout(h_pad = 3)\n",
    "ax0.set_xlabel('')\n",
    "ax1.set_xlabel('')\n",
    "\n",
    "#display\n",
    "plt.show()\n"
   ]
  },
  {
   "cell_type": "markdown",
   "id": "cb5ce6d2",
   "metadata": {},
   "source": [
    "Check how many listings have not been booked even atleast once a year"
   ]
  },
  {
   "cell_type": "code",
   "execution_count": null,
   "id": "eac75a44",
   "metadata": {
    "pycharm": {
     "name": "#%%\n"
    }
   },
   "outputs": [],
   "source": [
    "no_guest = data['availability_365'] == 365\n",
    "data_no_guest = data[no_guest]\n",
    "data_no_guest.groupby('neighbourhood_group')['name'].count().sort_values().reset_index()"
   ]
  },
  {
   "cell_type": "code",
   "execution_count": null,
   "id": "8e5ee737",
   "metadata": {
    "code_folding": []
   },
   "outputs": [],
   "source": [
    "#visualize data\n",
    "\n",
    "#configure parameters\n",
    "fig = plt.figure(figsize = (16,6))\n",
    "\n",
    "\n",
    "#plot\n",
    "order = data_no_guest.groupby('neighbourhood_group')['id'].count().sort_values().index\n",
    "sns.countplot(x = 'neighbourhood_group',data = data_no_guest,palette = 'Blues', order = order)\n",
    "\n",
    "\n",
    "#customize chart\n",
    "plt.suptitle('Number of Airbnb Listings with Zero Bookings', fontsize = 15, y = .95)\n",
    "ax0.set_xlabel('')\n",
    "ax1.set_xlabel('')\n",
    "\n",
    "#display\n",
    "plt.show()\n"
   ]
  },
  {
   "cell_type": "markdown",
   "id": "44ea5561",
   "metadata": {},
   "source": [
    "There are 572 units in Manhattan that have not been booked even once, while there are only 12 units that have not been booked in Staten Island. "
   ]
  },
  {
   "cell_type": "markdown",
   "id": "72bbf4c8",
   "metadata": {},
   "source": [
    "For our analysis, it would be more helpful to get the booking ratio per neighborhood and room type. <br>\n",
    "Booking ratio would be the percentage of Airbnb listings that are booked atleast once over total units per room type and neighborhood"
   ]
  },
  {
   "cell_type": "markdown",
   "id": "a027505f",
   "metadata": {
    "pycharm": {
     "name": "#%%\n"
    }
   },
   "source": [
    "To do that, I will create a `booked` column containing values as follows:\n",
    "- `0`: No bookings for the year\n",
    "- `1`: With atleast 1 booking for the year"
   ]
  },
  {
   "cell_type": "code",
   "execution_count": null,
   "id": "103804c0",
   "metadata": {},
   "outputs": [],
   "source": [
    "#create booked column\n",
    "data['booked'] = [1 if i != 0 else 0 for i in data.availability_365]"
   ]
  },
  {
   "cell_type": "markdown",
   "id": "635ec7ed",
   "metadata": {},
   "source": [
    "Next, I will create a dataframe containing the `booking ratio`."
   ]
  },
  {
   "cell_type": "code",
   "execution_count": null,
   "id": "ac0e955e",
   "metadata": {
    "pycharm": {
     "name": "#%%\n"
    }
   },
   "outputs": [],
   "source": [
    "booking = data.groupby(['neighbourhood_group','room_type'], as_index = False)['booked'].mean()\\\n",
    "              .sort_values('booked', ascending = False).reset_index(drop = True)\n",
    "booking"
   ]
  },
  {
   "cell_type": "markdown",
   "id": "48eecc82",
   "metadata": {},
   "source": [
    "From the dataframe above we can see that **90% of the Private Rooms in Staten Island have been occupied by guests** while **Manhattan's Private Rooms only has a booking rate of 60%.**"
   ]
  },
  {
   "cell_type": "markdown",
   "id": "9fc3eb38",
   "metadata": {},
   "source": [
    "Next, I want to determine the average length of stay of guests per neighborhood group and room type: `occupancy rate per listing.` <br>\n",
    "I will express it as a percentage of the average days occupied to be computed as follows: `365 - availability_365 / 365 days`"
   ]
  },
  {
   "cell_type": "code",
   "execution_count": null,
   "id": "11795847",
   "metadata": {},
   "outputs": [],
   "source": [
    "data['occupancy_rate'] = (365 - data['availability_365'])/365\n",
    "\n",
    "occupancy = data.groupby(['neighbourhood_group', 'room_type'], as_index = False)['occupancy_rate'].mean()\\\n",
    "                .sort_values('occupancy_rate', ascending = False).reset_index(drop = True)\n",
    "occupancy"
   ]
  },
  {
   "cell_type": "markdown",
   "id": "b7c10c6b",
   "metadata": {},
   "source": [
    "- Staten Island's shared room are occupied by guests 82% of the time. The hosts for these listings must be very busy throughout the year. <br><br>\n",
    "- It is then followed by Brooklyn's Entire home/apt with a 73% occupancy rate. <br><br>\n",
    "- On the other hand, Staten Island's Private Rooms has the lowest occupancy rate."
   ]
  },
  {
   "cell_type": "markdown",
   "id": "78303ec7",
   "metadata": {},
   "source": [
    "To choose the best investment, I will consider three things:\n",
    "- Weighted Annual Income,\n",
    "- Booking Rate - percentage of units that have guests, and\n",
    "- Occupancy Rate - percentage of days (over 365 days) that the unit have guests"
   ]
  },
  {
   "cell_type": "markdown",
   "id": "44c9f955",
   "metadata": {},
   "source": [
    "Since I am a busy person, basically, I want a unit with the highest weighted annual income with the lowest occupancy rate.<br>`Highest income, Lowest effort`"
   ]
  },
  {
   "cell_type": "code",
   "execution_count": null,
   "id": "1298f14a",
   "metadata": {
    "pycharm": {
     "name": "#%%\n"
    }
   },
   "outputs": [],
   "source": [
    "#create income dataframe with the booking rate\n",
    "\n",
    "income = data.groupby(['neighbourhood_group','room_type']).agg({'booked':'mean', 'price':'mean'})\n",
    "income"
   ]
  },
  {
   "cell_type": "code",
   "execution_count": null,
   "id": "52e09576",
   "metadata": {},
   "outputs": [],
   "source": [
    "#create model dataframe by joining the income dataframe and occupancy dataframe\n",
    "model = pd.merge(income, occupancy, how = 'left', on=['neighbourhood_group', 'room_type'])\n",
    "\n",
    "#create weighted annual income column\n",
    "model['weighted_annual_income'] = model['price'] * 365 * model['occupancy_rate'] * model['booked']\n",
    "model = model.sort_values(['occupancy_rate'], ascending = True).reset_index(drop = True)\n",
    "\n",
    "model"
   ]
  },
  {
   "cell_type": "code",
   "execution_count": null,
   "id": "8bd95cbf",
   "metadata": {},
   "outputs": [],
   "source": [
    "#set the income threshold\n",
    "thresh =  model['weighted_annual_income'].mean()\n",
    "\n",
    "#choose the highest income that is greater than the threshold with the lowest occupancy rate\n",
    "for i, row, in model[['weighted_annual_income', 'neighbourhood_group', 'room_type']].iterrows():\n",
    "    if model.loc[i, 'weighted_annual_income'] > thresh:\n",
    "        if model.loc[i, 'weighted_annual_income'] > model.loc[i+1, 'weighted_annual_income']:\n",
    "            print(f\"Recommended location is: {model.loc[i, 'neighbourhood_group']}\")\n",
    "            print(f\"Recommended room type is: {model.loc[i, 'room_type']}\")\n",
    "            print(f\"Estimated Annual Income is: {model.loc[i, 'weighted_annual_income']}\")\n",
    "            print(f\"This is {thresh/model.loc[i, 'weighted_annual_income']* 100:.2f}% higher than the threshold\")\n",
    "            break"
   ]
  },
  {
   "cell_type": "markdown",
   "id": "af94dcf7",
   "metadata": {},
   "source": [
    "### That's all. Thank you!"
   ]
  },
  {
   "cell_type": "markdown",
   "id": "762e8803",
   "metadata": {},
   "source": [
    "#### I would really appreciate it if you could give some feedback on this project so I know what to improve on. Cheers!"
   ]
  },
  {
   "cell_type": "code",
   "execution_count": null,
   "id": "64782c60",
   "metadata": {},
   "outputs": [],
   "source": []
  }
 ],
 "metadata": {
  "kernelspec": {
   "display_name": "Python 3",
   "language": "python",
   "name": "python3"
  },
  "language_info": {
   "codemirror_mode": {
    "name": "ipython",
    "version": 3
   },
   "file_extension": ".py",
   "mimetype": "text/x-python",
   "name": "python",
   "nbconvert_exporter": "python",
   "pygments_lexer": "ipython3",
   "version": "3.8.8"
  }
 },
 "nbformat": 4,
 "nbformat_minor": 5
}
